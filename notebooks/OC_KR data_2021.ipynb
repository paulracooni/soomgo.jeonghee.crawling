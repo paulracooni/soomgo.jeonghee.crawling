{
 "cells": [
  {
   "cell_type": "markdown",
   "source": [
    "## ceo 이름 찾기"
   ],
   "metadata": {}
  },
  {
   "cell_type": "code",
   "execution_count": 1,
   "source": [
    "from bs4 import BeautifulSoup\r\n",
    "from selenium import webdriver\r\n",
    "import requests\r\n",
    "import pandas as pd\r\n",
    "import time\r\n",
    "from selenium.webdriver.common.keys import Keys"
   ],
   "outputs": [],
   "metadata": {}
  },
  {
   "cell_type": "code",
   "execution_count": 3,
   "source": [
    "firm_df = pd.read_excel('OC_KR.xlsx', engine='openpyxl')\r\n",
    "firm_name_list = firm_df['Organization Name'].tolist()"
   ],
   "outputs": [],
   "metadata": {}
  },
  {
   "cell_type": "code",
   "execution_count": 8,
   "source": [
    "url = 'http://www.google.com'\r\n",
    "driver = webdriver.Chrome('chromedriver.exe')\r\n",
    "driver.get(url)"
   ],
   "outputs": [],
   "metadata": {}
  },
  {
   "cell_type": "code",
   "execution_count": null,
   "source": [
    "firm_list = []\r\n",
    "CEO_infomation = []\r\n",
    "\r\n",
    "#for i in range(len(firm_name_list[50:60])):\r\n",
    "for i in firm_name_list:\r\n",
    "    print(i)\r\n",
    "    driver.get(url)\r\n",
    "    \r\n",
    "    firm_name = i +' 대표'\r\n",
    "    \r\n",
    "    # 검색\r\n",
    "    search_box = driver.find_element_by_xpath('/html/body/div[1]/div[3]/form/div[1]/div[1]/div[1]/div/div[2]/input')\r\n",
    "    search_box.clear()\r\n",
    "    search_box.send_keys(firm_name)\r\n",
    "    search_box.send_keys(u'\\ue007')\r\n",
    "#     try:\r\n",
    "#         driver.find_element_by_xpath('/html/body/div[1]/div[3]/form/div[1]/div[1]/div[2]/div[2]/div[2]/center/input[1]').click()\r\n",
    "#     except:\r\n",
    "#         driver.find_element_by_xpath('/html/body/div[1]/div[3]/form/div[1]/div[1]/div[3]/center/input[1]').click()\r\n",
    "    \r\n",
    "    time.sleep(2)\r\n",
    "    \r\n",
    "    # CEO 정보 본문내용 우선 저장\r\n",
    "    temp_list = []\r\n",
    "    temp = driver.find_elements_by_css_selector('div > div > div.IsZvec > div')\r\n",
    "    for j in temp:\r\n",
    "        temp_list.append(j.text)\r\n",
    "    CEO_text = temp_list\r\n",
    "    \r\n",
    "    try:\r\n",
    "        # CEO 정보\r\n",
    "        temp_text = driver.find_element_by_xpath('//*[@id=\"rso\"]/div[1]/div/div[1]/div/div[1]/div').text\r\n",
    "        if temp_text != '':\r\n",
    "            CEO_text = temp_text\r\n",
    "    except:\r\n",
    "        print(i + ' error')\r\n",
    "            \r\n",
    "\r\n",
    "    # 회사명, CEO 정보 각 list에 추가\r\n",
    "    firm_list.append(i)\r\n",
    "    CEO_infomation.append(CEO_text)"
   ],
   "outputs": [],
   "metadata": {}
  },
  {
   "cell_type": "code",
   "execution_count": null,
   "source": [
    "results = pd.DataFrame({'firm_name':firm_list,'CEO_information':CEO_infomation})"
   ],
   "outputs": [],
   "metadata": {}
  },
  {
   "cell_type": "code",
   "execution_count": null,
   "source": [
    "results"
   ],
   "outputs": [],
   "metadata": {}
  },
  {
   "cell_type": "markdown",
   "source": [
    "## ceo 기사 (전체 기사 / confident & conservative 기사)\n",
    "- API: 회사이름으로 기사 전체 갯수 출력  \n",
    "- API: 회사이름+CEO 이름+confident(자신, 희망, 낙관, 긍정, 확신, 두려움없, 대담, 용기) OR conservative(보수, 비관, 믿음, 차분, 한결, 조심, 중도, 신중) "
   ],
   "metadata": {}
  },
  {
   "cell_type": "code",
   "execution_count": null,
   "source": [],
   "outputs": [],
   "metadata": {}
  },
  {
   "cell_type": "markdown",
   "source": [
    "## linked in - mkt 담당자 숫자 확인 "
   ],
   "metadata": {}
  },
  {
   "cell_type": "code",
   "execution_count": 2,
   "source": [
    "from bs4 import BeautifulSoup\r\n",
    "from selenium import webdriver\r\n",
    "import requests\r\n",
    "import pandas as pd\r\n",
    "import numpy as np\r\n",
    "import time\r\n",
    "import bs4\r\n",
    "pd.set_option('display.max_columns', None)\r\n",
    "from selenium.webdriver.common.keys import Keys"
   ],
   "outputs": [],
   "metadata": {}
  },
  {
   "cell_type": "code",
   "execution_count": 3,
   "source": [
    "firm_df = pd.read_excel('OC_KR.xlsx', engine='openpyxl')\r\n",
    "firm_list = firm_df['Organization Name'][firm_df['LinkedIn'].notnull()].tolist()"
   ],
   "outputs": [],
   "metadata": {}
  },
  {
   "cell_type": "code",
   "execution_count": 4,
   "source": [
    "Linkedin_list = firm_df['LinkedIn'][firm_df['LinkedIn'].notnull()].tolist()"
   ],
   "outputs": [],
   "metadata": {}
  },
  {
   "cell_type": "code",
   "execution_count": 18,
   "source": [
    "import re\r\n",
    "\r\n",
    "pattern = r'https://www.linkedin.com/company/(.*)/?'\r\n",
    "expected_urls = []\r\n",
    "unexpected_urls = []\r\n",
    "for url in Linkedin_list:\r\n",
    "\r\n",
    "    company_names = re.findall(pattern, url)\r\n",
    "    if company_names: # 정상적인 URL\r\n",
    "        company_name = company_names[0]\r\n",
    "        expected_urls.append(\r\n",
    "            f\"https://www.linkedin.com/company/{company_name}/people\"\r\n",
    "        )\r\n",
    "\r\n",
    "    else: # 비 정상적인 URL -> 무시\r\n",
    "        unexpected_urls.append(url)\r\n",
    "        continue\r\n",
    "\r\n",
    "len(expected_urls), len(unexpected_urls)\r\n",
    "Linkedin_list = expected_urls"
   ],
   "outputs": [],
   "metadata": {}
  },
  {
   "cell_type": "code",
   "execution_count": 6,
   "source": [
    "# Linkedin URL cleaning\r\n",
    "temp_list = []\r\n",
    "for i in Linkedin_list:\r\n",
    "    front_url = i.split('company/')[0]\r\n",
    "    try:\r\n",
    "        company_name = i.split('company/')[1].split('/')[0]\r\n",
    "    except:\r\n",
    "        company_name = ''\r\n",
    "    temp_url = front_url + 'company/' + company_name + '/people'\r\n",
    "    temp_list.append(temp_url)\r\n",
    "    \r\n",
    "Linkedin_list = temp_list\r\n",
    "Linkedin_list"
   ],
   "outputs": [
    {
     "output_type": "execute_result",
     "data": {
      "text/plain": [
       "['https://www.linkedin.cn/company/spursell/people',\n",
       " 'https://www.linkedin.com/companycompany//people',\n",
       " 'https://www.linkedin.com/company/%EB%A3%A8%EB%82%98%EC%86%8C%ED%94%84%ED%8A%B8/people',\n",
       " 'https://www.linkedin.com/company/%EC%A3%BC%EC%8B%9D%ED%9A%8C%EC%82%AC-%ED%8E%AB%EB%9D%BC%EC%9D%B4%ED%81%AC/people',\n",
       " 'https://www.linkedin.com/company/%ED%95%80%EB%8B%A4-finda-/people',\n",
       " 'https://www.linkedin.com/company/10099935?trk=tyah&trkInfo=clickedVertical%3Acompany%2CclickedEntityId%3A10099935%2Cidx%3A2-1-3%2CtarId%3A1459180716666%2Ctas%3An.code/people',\n",
       " 'https://www.linkedin.com/company/1am/people',\n",
       " 'https://www.linkedin.com/company/6gram/people',\n",
       " 'https://www.linkedin.com/company/althea-inc-/people',\n",
       " 'https://www.linkedin.com/company/b2link-corporation/people',\n",
       " 'https://www.linkedin.com/company/bettercode-co.-ltd./people',\n",
       " 'https://www.linkedin.com/company/breezm/people',\n",
       " 'https://www.linkedin.com/company/brich-%EB%B8%8C%EB%A6%AC%EC%B9%98-/people',\n",
       " 'https://www.linkedin.com/company/catchfashion/people',\n",
       " 'https://www.linkedin.com/company/closetshare/people',\n",
       " 'https://www.linkedin.com/company/cube-chain/people',\n",
       " 'https://www.linkedin.com/company/deardahlia/people',\n",
       " 'https://www.linkedin.com/company/deleo-korea/people',\n",
       " 'https://www.linkedin.com/company/eastendkr/people',\n",
       " 'https://www.linkedin.com/company/editiondenmark/people',\n",
       " 'https://www.linkedin.com/company/entropia-co--ltd-/people',\n",
       " 'https://www.linkedin.com/company/fastviewkorea/people',\n",
       " 'https://www.linkedin.com/company/feelway-com/people',\n",
       " 'https://www.linkedin.com/company/funfur/people',\n",
       " 'https://www.linkedin.com/company/ganadaproject/people',\n",
       " 'https://www.linkedin.com/company/gitple/people',\n",
       " 'https://www.linkedin.com/company/harim-petfood/people',\n",
       " 'https://www.linkedin.com/company/hello-skin/people',\n",
       " 'https://www.linkedin.com/company/holzack-inc/people',\n",
       " 'https://www.linkedin.com/company/imperfectar/people',\n",
       " 'https://www.linkedin.com/company/joonggonara/people',\n",
       " 'https://www.linkedin.com/company/knowmerce/people',\n",
       " 'https://www.linkedin.com/company/komachine/people',\n",
       " 'https://www.linkedin.com/company/kontactic/people',\n",
       " 'https://www.linkedin.com/company/koodon/people',\n",
       " 'https://www.linkedin.com/company/kukkaofficial/people',\n",
       " 'https://www.linkedin.com/company/level13hr/people',\n",
       " 'https://www.linkedin.com/company/libridgeglobal/people',\n",
       " 'https://www.linkedin.com/company/marpple/people',\n",
       " 'https://www.linkedin.com/company/mefactory0/people',\n",
       " 'https://www.linkedin.com/company/mhq-inc./people',\n",
       " 'https://www.linkedin.com/company/millietown/people',\n",
       " 'https://www.linkedin.com/company/mongata/people',\n",
       " 'https://www.linkedin.com/company/mygoodlife/people',\n",
       " 'https://www.linkedin.com/company/nextchapter-inc/people',\n",
       " 'https://www.linkedin.com/company/norragen/people',\n",
       " 'https://www.linkedin.com/company/omnious/people',\n",
       " 'https://www.linkedin.com/company/onnuri/people',\n",
       " 'https://www.linkedin.com/company/owin/people',\n",
       " 'https://www.linkedin.com/company/panda-innovation/people',\n",
       " 'https://www.linkedin.com/company/plating-inc./people',\n",
       " 'https://www.linkedin.com/company/postype/people',\n",
       " 'https://www.linkedin.com/company/rsfive/people',\n",
       " 'https://www.linkedin.com/company/seoulauctionblue/people',\n",
       " 'https://www.linkedin.com/company/shuttledelivery/people',\n",
       " 'https://www.linkedin.com/company/socialclubkr/people',\n",
       " 'https://www.linkedin.com/company/stylidge/people',\n",
       " 'https://www.linkedin.com/company/temcolabs/people',\n",
       " 'https://www.linkedin.com/company/tenqube/people',\n",
       " 'https://www.linkedin.com/company/trenbe/people',\n",
       " 'https://www.linkedin.com/company/tridge/people',\n",
       " 'https://www.linkedin.com/company/vigtiger/people',\n",
       " 'https://www.linkedin.com/company/wise-commerce/people',\n",
       " 'https://www.linkedin.com/company/wishpoke/people',\n",
       " 'https://www.linkedin.com/company/wishupon/people',\n",
       " 'https://www.linkedin.com/company/yana-travel/people',\n",
       " 'https://www.linkedin.com/company-beta/13294379/company//people',\n",
       " 'https://www.linkedin.com/in/allfin/company//people']"
      ]
     },
     "metadata": {},
     "execution_count": 6
    }
   ],
   "metadata": {}
  },
  {
   "cell_type": "code",
   "execution_count": 6,
   "source": [
    "driver = webdriver.Chrome('chromedriver.exe')\r\n",
    "driver.implicitly_wait(10)"
   ],
   "outputs": [],
   "metadata": {}
  },
  {
   "cell_type": "code",
   "execution_count": 7,
   "source": [
    "url = 'https://www.linkedin.com/login'\r\n",
    "driver.get(url)"
   ],
   "outputs": [],
   "metadata": {}
  },
  {
   "cell_type": "code",
   "execution_count": 8,
   "source": [
    "# 기존 회원 로그인 버튼 클릭\r\n",
    "# try:\r\n",
    "#     origin_xpath = '/html/body/div[1]/main/p/a'\r\n",
    "#     new_xpath = '/html/body/header/nav/div/a[2]'\r\n",
    "#     driver.find_element_by_xpath(new_xpath).click()\r\n",
    "# except:\r\n",
    "#     print('Error')\r\n",
    "#     None\r\n",
    "\r\n",
    "# target_text = '로그인'\r\n",
    "# elements = driver.find_elements_by_xpath(f\"//*[contains(text(), '{target_text}')]\")\r\n",
    "# login_btn = list(filter(lambda e: e.text == target_text, elements))\r\n",
    "# if login_btn:\r\n",
    "#     login_btn = login_btn.pop()\r\n",
    "# else:\r\n",
    "#     raise RuntimeError(f\"Can't find any {target_text} element\")\r\n",
    "# login_btn.click()\r\n",
    "\r\n",
    "# ID 입력\r\n",
    "\r\n",
    "elem_login = driver.find_element_by_xpath('//*[@id=\"username\"]')\r\n",
    "elem_login.clear()\r\n",
    "elem_login.send_keys('charmbjh@korea.ac.kr')\r\n",
    "\r\n",
    "# 비밀번호 입력\r\n",
    "elem_login = driver.find_element_by_xpath('//*[@id=\"password\"]')\r\n",
    "elem_login.clear()\r\n",
    "elem_login.send_keys('kate0987')\r\n",
    "\r\n",
    "time.sleep(2)\r\n",
    "\r\n",
    "# 로그인 버튼 클릭\r\n",
    "driver.find_element_by_xpath('//*[@id=\"organic-div\"]/form/div[3]/button').click()\r\n",
    "\r\n",
    "# 나중에 버튼 클릭\r\n",
    "try :\r\n",
    "    driver.find_element_by_xpath('//*[@id=\"remember-me-prompt__form-secondary\"]/button').click()\r\n",
    "except :\r\n",
    "    print('None')"
   ],
   "outputs": [
    {
     "output_type": "stream",
     "name": "stdout",
     "text": [
      "None\n"
     ]
    }
   ],
   "metadata": {}
  },
  {
   "cell_type": "code",
   "execution_count": 28,
   "source": [
    "# f\"//*[contains(text(), '{target_text}')]\"\r\n",
    "from time import sleep\r\n",
    "driver.get('https://www.linkedin.com/company/%EC%A3%BC%EC%8B%9D%ED%9A%8C%EC%82%AC-%ED%8E%AB%EB%9D%BC%EC%9D%B4%ED%81%AC/people/')\r\n",
    "target_text = '직원 0명'\r\n",
    "sleep(4)\r\n",
    "elements = driver.find_elements_by_xpath(f\"//*[contains(text(), '{target_text}')]\")\r\n",
    "elements\r\n",
    "# for e in elements:\r\n",
    "#     re.findall(r\"직원 ([0-9]*)명\", e.text)\r\n",
    "#     print(e, e.text)\r\n",
    "#     print(re.findall(r\"직원 ([0-9]*)명\", e.text))"
   ],
   "outputs": [
    {
     "output_type": "execute_result",
     "data": {
      "text/plain": [
       "[]"
      ]
     },
     "metadata": {},
     "execution_count": 28
    }
   ],
   "metadata": {}
  },
  {
   "cell_type": "markdown",
   "source": [],
   "metadata": {}
  },
  {
   "cell_type": "code",
   "execution_count": 31,
   "source": [
    "firm_name = []\r\n",
    "num_total_list = []\r\n",
    "specific_list = []\r\n",
    "num_mkt_list = []\r\n",
    "mkt_proportion_list = [] \r\n",
    "\r\n",
    "for i in range(len(Linkedin_list)):\r\n",
    "    \r\n",
    "    driver.get(Linkedin_list[i])\r\n",
    "    print(Linkedin_list[i])\r\n",
    "    \r\n",
    "    time.sleep(2)\r\n",
    "    # 총 재직자 수\r\n",
    "    try:\r\n",
    "        num_total_employee = int(driver.find_element_by_xpath('//*[@id=\"main\"]/div[2]/div/div[1]/div[1]').text.split(' ')[1].replace('명',''))\r\n",
    "        print(f\"총 재직자 수: {num_total_employee}\")\r\n",
    "    except:\r\n",
    "        print(\"No 총 재직자 수\")\r\n",
    "        continue\r\n",
    "\r\n",
    "    # 만약 재직자 수가 0명일 경우 Pass\r\n",
    "    if not num_total_employee:\r\n",
    "        firm_name.append(firm_list[i])\r\n",
    "        num_total_list.append(num_total_employee)\r\n",
    "        specific_list.append(None)\r\n",
    "        num_mkt_list.append(None)\r\n",
    "        mkt_proportion_list.append(None)\r\n",
    "        continue\r\n",
    "\r\n",
    "    # 다음\r\n",
    "    driver.find_element_by_xpath('/html/body/div[5]/div[3]/div/div[2]/div/div[2]/main/div[2]/div/div[1]/div[2]/div/section/div[1]/div/div/button[2]').send_keys(Keys.ENTER)\r\n",
    "\r\n",
    "    # show more\r\n",
    "    driver.find_element_by_css_selector('#main > div.org-grid__content-height-enforcer > div > div.artdeco-card.pb2 > div.relative > button').send_keys(Keys.ENTER)\r\n",
    "\r\n",
    "    # position\r\n",
    "    position = driver.find_element_by_xpath('/html/body/div[5]/div[3]/div/div[2]/div/div[2]/main/div[2]/div/div[1]/div[2]/div/section/div[2]/ul/li[3]/div/div')\r\n",
    "    num_job = position.text.split('\\n')[1:]\r\n",
    "    \r\n",
    "    temp = pd.Series(num_job).apply(lambda x:x.split(' '))\r\n",
    "    position_dict = dict(zip(temp.apply(lambda x:x[1]), temp.apply(lambda x:x[0])))\r\n",
    "    \r\n",
    "    try :\r\n",
    "        num_mkt = int(position_dict['마케팅'])\r\n",
    "\r\n",
    "    except :\r\n",
    "        num_mkt = 0\r\n",
    "    \r\n",
    "    # 마케팅 인원 비율\r\n",
    "    mkt_proportion = num_mkt / num_total_employee\r\n",
    "    \r\n",
    "    # 리스트 저장\r\n",
    "    firm_name.append(firm_list[i])\r\n",
    "    num_total_list.append(num_total_employee)\r\n",
    "    specific_list.append(num_job)\r\n",
    "    num_mkt_list.append(num_mkt)\r\n",
    "    mkt_proportion_list.append(mkt_proportion)"
   ],
   "outputs": [
    {
     "output_type": "stream",
     "name": "stdout",
     "text": [
      "https://www.linkedin.com/company/%EB%A3%A8%EB%82%98%EC%86%8C%ED%94%84%ED%8A%B8//people\n",
      "총 재직자 수: 21\n",
      "https://www.linkedin.com/company/%EC%A3%BC%EC%8B%9D%ED%9A%8C%EC%82%AC-%ED%8E%AB%EB%9D%BC%EC%9D%B4%ED%81%AC//people\n",
      "총 재직자 수: 0\n"
     ]
    },
    {
     "output_type": "error",
     "ename": "NameError",
     "evalue": "name 'irm_name' is not defined",
     "traceback": [
      "\u001b[1;31m---------------------------------------------------------------------------\u001b[0m",
      "\u001b[1;31mNameError\u001b[0m                                 Traceback (most recent call last)",
      "\u001b[1;32m<ipython-input-31-bf25270c4766>\u001b[0m in \u001b[0;36m<module>\u001b[1;34m\u001b[0m\n\u001b[0;32m     21\u001b[0m     \u001b[1;31m# 만약 재직자 수가 0명일 경우 Pass\u001b[0m\u001b[1;33m\u001b[0m\u001b[1;33m\u001b[0m\u001b[1;33m\u001b[0m\u001b[0m\n\u001b[0;32m     22\u001b[0m     \u001b[1;32mif\u001b[0m \u001b[1;32mnot\u001b[0m \u001b[0mnum_total_employee\u001b[0m\u001b[1;33m:\u001b[0m\u001b[1;33m\u001b[0m\u001b[1;33m\u001b[0m\u001b[0m\n\u001b[1;32m---> 23\u001b[1;33m         \u001b[0mirm_name\u001b[0m\u001b[1;33m.\u001b[0m\u001b[0mappend\u001b[0m\u001b[1;33m(\u001b[0m\u001b[0mfirm_list\u001b[0m\u001b[1;33m[\u001b[0m\u001b[0mi\u001b[0m\u001b[1;33m]\u001b[0m\u001b[1;33m)\u001b[0m\u001b[1;33m\u001b[0m\u001b[1;33m\u001b[0m\u001b[0m\n\u001b[0m\u001b[0;32m     24\u001b[0m         \u001b[0mnum_total_list\u001b[0m\u001b[1;33m.\u001b[0m\u001b[0mappend\u001b[0m\u001b[1;33m(\u001b[0m\u001b[0mnum_total_employee\u001b[0m\u001b[1;33m)\u001b[0m\u001b[1;33m\u001b[0m\u001b[1;33m\u001b[0m\u001b[0m\n\u001b[0;32m     25\u001b[0m         \u001b[0mspecific_list\u001b[0m\u001b[1;33m.\u001b[0m\u001b[0mappend\u001b[0m\u001b[1;33m(\u001b[0m\u001b[1;32mNone\u001b[0m\u001b[1;33m)\u001b[0m\u001b[1;33m\u001b[0m\u001b[1;33m\u001b[0m\u001b[0m\n",
      "\u001b[1;31mNameError\u001b[0m: name 'irm_name' is not defined"
     ]
    }
   ],
   "metadata": {}
  },
  {
   "cell_type": "code",
   "execution_count": 53,
   "source": [
    "results = pd.DataFrame({'firm_name':firm_name,\r\n",
    "                       'num_total_employee':num_total_list,\r\n",
    "                       'num_job':specific_list,\r\n",
    "                       'num_mkt':num_mkt_list,\r\n",
    "                       'mkt_proportion':mkt_proportion_list})"
   ],
   "outputs": [],
   "metadata": {}
  },
  {
   "cell_type": "code",
   "execution_count": 55,
   "source": [
    "firm_name"
   ],
   "outputs": [
    {
     "output_type": "execute_result",
     "data": {
      "text/plain": [
       "[]"
      ]
     },
     "metadata": {},
     "execution_count": 55
    }
   ],
   "metadata": {}
  },
  {
   "cell_type": "markdown",
   "source": [
    "## 투자 금액 \n",
    "- 회사이름 + 유치 "
   ],
   "metadata": {}
  },
  {
   "cell_type": "code",
   "execution_count": null,
   "source": [],
   "outputs": [],
   "metadata": {}
  },
  {
   "cell_type": "code",
   "execution_count": null,
   "source": [],
   "outputs": [],
   "metadata": {}
  },
  {
   "cell_type": "code",
   "execution_count": null,
   "source": [],
   "outputs": [],
   "metadata": {}
  },
  {
   "cell_type": "markdown",
   "source": [
    "## 페이스북 팔로워 숫자 세기"
   ],
   "metadata": {}
  },
  {
   "cell_type": "code",
   "execution_count": null,
   "source": [
    "import os\r\n",
    "import csv\r\n",
    "\r\n",
    "from bs4 import BeautifulSoup as bs\r\n",
    "from selenium import webdriver\r\n",
    "from selenium.webdriver.support.ui import WebDriverWait\r\n",
    "from selenium.webdriver.support import expected_conditions as EC\r\n",
    "from selenium.webdriver.common.by import By\r\n",
    "from selenium.common.exceptions import TimeoutException"
   ],
   "outputs": [],
   "metadata": {}
  },
  {
   "cell_type": "code",
   "execution_count": null,
   "source": [
    "class TwitterCralwer:\r\n",
    "    def __init__(self, driverpath=None):\r\n",
    "        default_path = os.path.join(os.getcwd(), \"chromedriver\")\r\n",
    "        if driverpath is None:\r\n",
    "            driverpath = default_path\r\n",
    "\r\n",
    "        options = webdriver.ChromeOptions()\r\n",
    "        # options.add_argument('headless')\r\n",
    "\r\n",
    "        self.driver = webdriver.Chrome(driverpath, options=options)\r\n",
    "\r\n",
    "    def get(self, url, css_selector):\r\n",
    "        self.driver.get(url)\r\n",
    "\r\n",
    "        try:\r\n",
    "            WebDriverWait(self.driver, 5).until(\r\n",
    "                EC.presence_of_element_located((By.ID, css_selector))\r\n",
    "            )\r\n",
    "        except TimeoutException:\r\n",
    "            pass\r\n",
    "\r\n",
    "        html = self.driver.page_source\r\n",
    "\r\n",
    "        soup = bs(html, features=\"html.parser\")\r\n",
    "\r\n",
    "        res = None\r\n",
    "        try:\r\n",
    "            res = soup.select(css_selector)[-1].text\r\n",
    "        except IndexError:\r\n",
    "            print(\"This URL may be not valid\")\r\n",
    "\r\n",
    "        return res\r\n",
    "\r\n",
    "\r\n",
    "if __name__ == '__main__':\r\n",
    "    css_selector = \"span.css-901oao.css-16my406.r-1fmj7o5.r-poiln3.r-b88u0q.r-bcqeeo.r-qvutc0 > span\"\r\n",
    "    # #mount_0_0_r4 > div > div:nth-child(1) > div > div.rq0escxv.l9j0dhe7.du4w35lb > div > div > div.j83agx80.cbu4d94t.d6urw2fd.dp1hu0rb.l9j0dhe7.du4w35lb > div.j83agx80.cbu4d94t.dp1hu0rb > div > div > div.bp9cbjyn.j83agx80.cbu4d94t.d2edcug0 > div.rq0escxv.d2edcug0.ecyo15nh.hv4rvrfc.dati1w0a.tr9rh885 > div > div.rq0escxv.l9j0dhe7.du4w35lb.qmfd67dx.hpfvmrgz.o387gat7.buofh1pr.g5gj957u.aov4n071.oi9244e8.bi6gxh9e.h676nmdw.aghb5jc5.rek2kq2y > div.lpgh02oy > div > div:nth-child(1) > div > div > div > div > div.sej5wr8e > div > div > ul > div.rq0escxv.l9j0dhe7.du4w35lb.j83agx80.pfnyh3mw.jifvfom9.gs1a9yip.owycx6da.btwxx1t3.jb3vyjys.b5q2rw42.lq239pai.mysgfdmx.hddg9phg > div.rq0escxv.l9j0dhe7.du4w35lb.j83agx80.cbu4d94t.g5gj957u.d2edcug0.hpfvmrgz.rj1gh0hx.buofh1pr.o8rfisnq.p8fzw8mz.pcp91wgn.iuny7tx3.ipjc6fyt > div > div > span\r\n",
    "    tc = TwitterCralwer()\r\n",
    "\r\n",
    "    with open(\"list.csv\", \"r\") as file:\r\n",
    "        reader = csv.reader(file)\r\n",
    "\r\n",
    "        urls = [row[6] for row in reader if row[6]]\r\n",
    "        urls = urls[1:]\r\n",
    "\r\n",
    "    with open(\"result.csv\", \"w\") as file:\r\n",
    "        writer = csv.writer(file)\r\n",
    "        for idx, url in enumerate(urls):\r\n",
    "            print(idx, url)\r\n",
    "            writer.writerow([url, tc.get(url, css_selector)])\r\n",
    "\r\n",
    "    # url = \"http://www.twitter.com/MotherlyMedia\"\r\n",
    "    # print(tc.get(url, css_selector))\r\n",
    "\r\n",
    "    tc.driver.close()\r\n"
   ],
   "outputs": [],
   "metadata": {}
  },
  {
   "cell_type": "code",
   "execution_count": null,
   "source": [],
   "outputs": [],
   "metadata": {}
  },
  {
   "cell_type": "code",
   "execution_count": null,
   "source": [],
   "outputs": [],
   "metadata": {}
  },
  {
   "cell_type": "code",
   "execution_count": null,
   "source": [],
   "outputs": [],
   "metadata": {}
  }
 ],
 "metadata": {
  "kernelspec": {
   "name": "python3",
   "display_name": "Python 3.6.8 64-bit ('crawling': virtualenv)"
  },
  "language_info": {
   "codemirror_mode": {
    "name": "ipython",
    "version": 3
   },
   "file_extension": ".py",
   "mimetype": "text/x-python",
   "name": "python",
   "nbconvert_exporter": "python",
   "pygments_lexer": "ipython3",
   "version": "3.6.8"
  },
  "interpreter": {
   "hash": "b39a453f4feff7d836d1ff1d8199672e04e3f776e7d3d4f7184e8d9b76be04bd"
  }
 },
 "nbformat": 4,
 "nbformat_minor": 5
}